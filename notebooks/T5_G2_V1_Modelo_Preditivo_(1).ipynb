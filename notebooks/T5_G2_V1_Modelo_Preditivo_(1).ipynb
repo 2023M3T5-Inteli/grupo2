{
  "cells": [
    {
      "cell_type": "markdown",
      "metadata": {
        "id": "Q5H4t5kAX15W"
      },
      "source": [
        "**IMPORTAÇÃO DAS BIBLIOTECAS**"
      ]
    },
    {
      "cell_type": "code",
      "execution_count": null,
      "metadata": {
        "id": "2il2etqgXLMf"
      },
      "outputs": [],
      "source": [
        "# Importando as bibliotecas utilizadas e métodos ou atributos utilizados\n",
        "\n",
        "import pandas as pd\n",
        "import numpy as np\n",
        "import seaborn as sns\n",
        "import matplotlib.pyplot as plt\n",
        "from pandas_profiling import ProfileReport\n",
        "from sklearn.preprocessing import OneHotEncoder, LabelEncoder"
      ]
    },
    {
      "cell_type": "markdown",
      "metadata": {
        "id": "MxxSB4qSXskf"
      },
      "source": [
        "**IMPORTAÇÃO DOS DADOS EM CSV**"
      ]
    },
    {
      "cell_type": "code",
      "execution_count": null,
      "metadata": {
        "id": "gdB75JLOO48P"
      },
      "outputs": [],
      "source": [
        "# Conectando o Drive para acessar as tabelas disponibilizadas\n",
        "\n",
        "from google.colab import drive\n",
        "drive.mount('/content/drive')"
      ]
    },
    {
      "cell_type": "code",
      "execution_count": null,
      "metadata": {
        "id": "gjxzBQbswfJZ"
      },
      "outputs": [],
      "source": [
        "# Atribuindo as planilhas a seu respectivo dataframe\n",
        "\n",
        "\n",
        "df_demo = pd.read_csv('/content/drive/MyDrive/COLAB COPIAS/testes projeto/BDIPMamaV11-INTELIDemograficosTt_DATA_LABELS_2023-01-24_1922.csv')\n",
        "df_hist = pd.read_csv('/content/drive/MyDrive/COLAB COPIAS/testes projeto/BDIPMamaV11-INTELIHistopatologia_DATA_LABELS_2023-01-24_1924.csv')\n",
        "df_peso = pd.read_csv('/content/drive/MyDrive/COLAB COPIAS/testes projeto/BDIPMamaV11-INTELIPesoEAltura_DATA_LABELS_2023-01-24_1926.csv')\n",
        "df_tumor = pd.read_csv('/content/drive/MyDrive/COLAB COPIAS/testes projeto/BDIPMamaV11-INTELIRegistroDeTumo_DATA_LABELS_2023-01-24_1924.csv')\n"
      ]
    },
    {
      "cell_type": "markdown",
      "metadata": {
        "id": "0CKLJb_YXpzX"
      },
      "source": [
        "**SELEÇÃO PRIMÁRIA DE TABELAS**  "
      ]
    },
    {
      "cell_type": "code",
      "execution_count": null,
      "metadata": {
        "id": "K4etxf63XmEf"
      },
      "outputs": [],
      "source": [
        "# Após debate inicial do grupo, decidiu-se seguir com as seguintes colunas em cada dataframe\n",
        "\n",
        "df_demo = df_demo[['Record ID', 'Escolaridade', 'Idade do paciente ao primeiro diagnóstico', 'Sexo', 'Data da última informação sobre o paciente', 'Última informação do paciente', 'Tempo de seguimento (em dias) - desde o último tumor no caso de tumores múltiplos    [dt_pci]', 'Já ficou grávida?', 'Idade na primeira gestação', 'Amamentou na primeira gestação?', 'Por quanto tempo amamentou?', 'Idade da primeira mentruação', 'Já fez uso de drogas?',\t'Atividade Física',\t'Consumo de tabaco',\t'Consumo de álcool', 'Possui histórico familiar de câncer?', 'Regime de Tratamento']]\n",
        "\n",
        "\n",
        "df_peso = df_peso[['Record ID','Peso', 'Altura (em centimetros)', 'IMC']]\n",
        "\n",
        "\n",
        "df_tumor = df_tumor[['Record ID', 'Código da Topografia (CID-O)', 'Código da Morfologia de acordo com o CID-O', 'Estadio Clínico  ', 'Grupo de Estadio Clínico', 'Classificação TNM Clínico - T', 'Classificação TNM Clínico - N', 'Classificação TNM Clínico - M', 'Combinação dos Tratamentos Realizados no Hospital', 'Lateralidade do tumor', 'Tempo desde o diagnóstico até a primeira recidiva  ', 'Descrição da Morfologia de acordo com o CID-O  (CID-O - 3ª edição)', 'Descrição da Topografia ', 'Com recidiva à distância', 'Com recidiva regional', 'Com recidiva local']]\n",
        "\n",
        "\n",
        "df_hist = df_hist.drop(columns='Indice H (Receptorde progesterona)')\n",
        "\n"
      ]
    },
    {
      "cell_type": "markdown",
      "metadata": {
        "id": "eYJx3rPOdlFv"
      },
      "source": [
        "***LIMPEZA DE LINHAS TOTALMENTE VAZIAS OU POBRES DE CONTEÚDO***"
      ]
    },
    {
      "cell_type": "code",
      "execution_count": null,
      "metadata": {
        "id": "-9RHijW9YcmR"
      },
      "outputs": [],
      "source": [
        "#não foi necessário fazer esse processo com o df_demo\n",
        "\n",
        "#A lógica utilizada foi manter nos dataframes apenas as linhas que tenham pelo menos uma célula não nula, eliminando as linhas vazias\n",
        "\n",
        "df_tumor = df_tumor[df_tumor.isnull().sum(axis=1) < 14]\n",
        "\n",
        "df_peso = df_peso[df_peso.isnull().sum(axis=1) < 3]\n",
        "\n",
        "df_hist = df_hist[df_hist.isnull().sum(axis=1) < 10]\n",
        "\n",
        "print(df_tumor.shape)\n",
        "print(df_peso.shape)\n",
        "print(df_hist.shape)\n",
        "print(df_demo.shape)\n",
        "print(df_peso['Record ID'].value_counts())"
      ]
    },
    {
      "cell_type": "markdown",
      "metadata": {
        "id": "8Rafft_-d7m_"
      },
      "source": [
        "*TRATAMENTO DA TABELA **PESO** PARA EVITAR REPETIÇÕES* // TRATAMENTO DE OUTLIERS"
      ]
    },
    {
      "cell_type": "code",
      "execution_count": null,
      "metadata": {
        "id": "V4u4MUVdeCr5"
      },
      "outputs": [],
      "source": [
        "#SETANDO O NUMERO DE CASAS DECIMAIS\n",
        "pd.set_option('display.precision',1)\n",
        "\n",
        "menores = df_peso[(df_peso.IMC > 5)]\n",
        "maiores = menores[(menores.IMC < 50)]\n",
        "\n",
        "\n",
        "#Agrupando por ID e colocando a média \n",
        "df_peso = maiores[(maiores.IMC != np.inf)].groupby(['Record ID'], as_index=False).mean()\n",
        "\n",
        "#pegar só a ultima ocorrencia"
      ]
    },
    {
      "cell_type": "markdown",
      "metadata": {
        "id": "kCkzYBoZA2Yi"
      },
      "source": [
        "RETIRANDO LINHAS COM MAIS DE UMA OCORRÊNCIA, **MANTENDO O ÚLTIMO REGISTRO**"
      ]
    },
    {
      "cell_type": "code",
      "execution_count": null,
      "metadata": {
        "id": "VXvnz5Lm0iMW"
      },
      "outputs": [],
      "source": [
        "#Aqui utilizou-se o comando drop_duplicates com o parâmetro keep = last\n",
        "#de forma que o dataframe retire todas as linhas que tenham o mesmo Record ID\n",
        "#mantendo apenas a última linha na tabela, a fim de manter o agrupamento\n",
        "\n",
        "df_hist = df_hist.drop_duplicates(subset=['Record ID'], keep='last')\n",
        "df_tumor = df_tumor.drop_duplicates(subset=['Record ID'], keep='last')\n",
        "\n",
        "print(df_peso['Record ID'].nunique())\n",
        "print(df_hist['Record ID'].nunique())\n",
        "print(df_tumor['Record ID'].nunique())\n",
        "print(df_demo['Record ID'].nunique())\n",
        "\n",
        "print('-----------------')\n",
        "\n",
        "print(df_peso['Record ID'].value_counts().sum())\n",
        "print(df_hist['Record ID'].value_counts().sum())\n",
        "print(df_tumor['Record ID'].value_counts().sum())\n",
        "print(df_demo['Record ID'].value_counts().sum())"
      ]
    },
    {
      "cell_type": "markdown",
      "metadata": {
        "id": "LabZgIAfNUzi"
      },
      "source": [
        "**MERGE DAS TABELAS**"
      ]
    },
    {
      "cell_type": "code",
      "execution_count": null,
      "metadata": {
        "id": "kJMJenoAK9xp"
      },
      "outputs": [],
      "source": [
        "#Fazendo o merge das tabelas com o comando merge()\n",
        "\n",
        "df_merge = df_demo.merge(df_tumor)\n",
        "df_merge = df_merge.merge(df_hist)\n",
        "df_merge = df_merge.merge(df_peso)\n",
        "\n",
        "df_dados = df_merge\n",
        "df_dados.isnull().sum()"
      ]
    },
    {
      "cell_type": "markdown",
      "metadata": {
        "id": "F6JxT0gd-aP5"
      },
      "source": [
        "\n",
        "\n",
        "**SELEÇÃO DE COLUNAS ESPECÍFICAS PARA TRABALHAR**"
      ]
    },
    {
      "cell_type": "code",
      "execution_count": null,
      "metadata": {
        "id": "vVAStIa1-duw"
      },
      "outputs": [],
      "source": [
        "#Após discussão da equipe, com base nos materiais que nos foram fornecidos para estudo do problema\n",
        "#usando guidelines, entrevistas e artigos como referência\n",
        "#decidimos utilizar as seguintes colunas no nosso modelo\n",
        "\n",
        "dfz = df_dados[['Record ID', 'Idade do paciente ao primeiro diagnóstico', 'Última informação do paciente', 'Tempo de seguimento (em dias) - desde o último tumor no caso de tumores múltiplos    [dt_pci]', 'Já ficou grávida?', 'Regime de Tratamento', 'Classificação TNM Clínico - M', 'Classificação TNM Clínico - N', 'Classificação TNM Clínico - T', 'Lateralidade do tumor', 'Com recidiva à distância', 'Com recidiva regional', 'Com recidiva local', 'Estadio Clínico  ', 'Combinação dos Tratamentos Realizados no Hospital']]\n",
        "for coluna in dfz:\n",
        "  print(f\"{df_dados[coluna].unique()}---\")\n",
        "\n"
      ]
    },
    {
      "cell_type": "markdown",
      "metadata": {
        "id": "ptwJpCtrwHW3"
      },
      "source": [
        "TRATAMENTO DE MISSINGS DAS COLUNAS SELECIONADAS"
      ]
    },
    {
      "cell_type": "code",
      "execution_count": null,
      "metadata": {
        "id": "CyYJkeDvvypo"
      },
      "outputs": [],
      "source": [
        "#SETANDO O NUMERO DE CASAS DECIMAIS\n",
        "pd.set_option('display.precision',0)\n",
        "\n",
        "#Cria-se duas variações do dataframe utilizado\n",
        "#Sendo elas respectivamente para fazer a codificação e normalização da coluna e retirar os outliers, afim de que a média calculada seja realista\n",
        "tes = dfz.dropna(subset=['Última informação do paciente'])\n",
        "tes2 = dfz.dropna(subset=['Última informação do paciente'])\n",
        "\n",
        "\n",
        "tes2['Idade do paciente ao primeiro diagnóstico'].fillna(tes['Idade do paciente ao primeiro diagnóstico'].describe()['mean'], inplace= True)\n",
        "#Aqui escolhemos substituir a idade com média temporariamente para poder fazer a analise dos dados e depois modificamos novamente para \"0\", para facilitar o reconhecimento de dados ausentes na hora da codificação\n",
        "tes2['Já ficou grávida?'].fillna(\"Não Informado Gravida\", inplace= True)\n",
        "tes2['Regime de Tratamento'].fillna(\"Não Informado Tratamento\", inplace= True)\n",
        "\n",
        "\n",
        "tes['Idade do paciente ao primeiro diagnóstico'].fillna(\"0\", inplace= True)\n",
        "tes['Já ficou grávida?'].fillna(\"Não Informado Gravida\", inplace= True)\n",
        "tes['Regime de Tratamento'].fillna(\"Não Informado Tratamento\", inplace= True)\n",
        "\n",
        "#EMBORA TENHA SIDO UTILIZADO DF2 PARA ANALISES, A CONTINUIDADE DO CÓDIGO SE DARÁ COM O DF1 PORQUE ELE ESTÁ COM A IDADE ADAPTADA PARA SER CODIFICADA\n"
      ]
    },
    {
      "cell_type": "markdown",
      "metadata": {
        "id": "GRzXov-t4zu-"
      },
      "source": [
        "**TRATAMENTO DE ALGUNS OUTLIERS DAS COLUNAS SELECIONADAS**"
      ]
    },
    {
      "cell_type": "code",
      "execution_count": null,
      "metadata": {
        "id": "tSiXKGIC449t"
      },
      "outputs": [],
      "source": [
        "#ELIMINANDO PACIENTES ACIMA DE 90 ANOS PORQUE POSSUIMOS POUCAS AMOSTRAGENS ACIMA DESSA FAIXA ETÁRIA E PARA EVITAR UNDERFITTING\n",
        "index_idade = tes2[ (tes2['Idade do paciente ao primeiro diagnóstico'] >= 90)].index\n",
        "tes2.drop(index_idade, inplace = True)\n",
        "tes.drop(index_idade, inplace = True)\n",
        "\n",
        "#ELIMINANDO PACIENTES QUE POSSUEM REGISTRO DE TUMOR ABAIXO DE 20 DIAS PORQUE ISSO É MUITO POUCO E PROVAVELMENTE A DATA ESTÁ BUGADA\n",
        "index_diastumor = tes2[ (tes2['Tempo de seguimento (em dias) - desde o último tumor no caso de tumores múltiplos    [dt_pci]'] <= 20)].index\n",
        "tes2.drop(index_diastumor, inplace = True)\n",
        "tes.drop(index_diastumor, inplace = True)\n"
      ]
    },
    {
      "cell_type": "markdown",
      "metadata": {
        "id": "YnLiJERK0vaO"
      },
      "source": [
        "**RECONHECIMENTO DE COLUNAS NUMÉRICAS X COLUNAS CATEGÓRICAS**"
      ]
    },
    {
      "cell_type": "code",
      "execution_count": null,
      "metadata": {
        "id": "X9dqFh8v041m"
      },
      "outputs": [],
      "source": [
        "#Através do comando dtypes, identificamos quais são as tabelas categóricas e numéricas\n",
        "\n",
        "cont = 0\n",
        "listacolcat = []\n",
        "for coluna in tes2.dtypes:\n",
        "  if coluna == 'float64' or coluna == 'int64':\n",
        "    tipo = \"Coluna Númerica\"\n",
        "\n",
        "  elif coluna == object:\n",
        "      tipo = \"Coluna Categórica\"\n",
        "      listacolcat.append(tes2.columns[cont])\n",
        "      \n",
        "  print(f'{tes2.columns[cont]} é {tipo}\\n========\\n')\n",
        "  cont+=1\n"
      ]
    },
    {
      "cell_type": "markdown",
      "metadata": {
        "id": "VIUtywhX4WG2"
      },
      "source": [
        "  **ESTATÍSTICA DESCRITIVA DAS COLUNAS NÚMERICAS**\n",
        "  "
      ]
    },
    {
      "cell_type": "code",
      "execution_count": null,
      "metadata": {
        "id": "GwwF9MUq4asM"
      },
      "outputs": [],
      "source": [
        "#Para as colunas numéricas, usamos o comando describe() para realizar a estatística descritiva\n",
        "\n",
        "\n",
        "tes2.describe()\n"
      ]
    },
    {
      "cell_type": "markdown",
      "metadata": {
        "id": "rUc9A7FpfJ4x"
      },
      "source": [
        "**ESTATÍSTICA DESCRITIVA DAS COLUNAS CATEGÓRICAS**"
      ]
    },
    {
      "cell_type": "code",
      "execution_count": null,
      "metadata": {
        "id": "_ZhCYEbtfOLp"
      },
      "outputs": [],
      "source": [
        "#Para as colunas categóricas, usamos o comando value_counts() para realizar a estatística descritiva\n",
        "\n",
        "for coluna in listacolcat:\n",
        "  print(f'Coluna:{coluna}\\n\\n{tes2[coluna].value_counts()}\\n\\n\\n') "
      ]
    },
    {
      "cell_type": "markdown",
      "metadata": {
        "id": "N0gCPQDJ7oXu"
      },
      "source": [
        "**3 GRÁFICOS RELACIONAIS ENTRE VARIÁVEIS ESCOLHIDAS PELO GRUPO**\n"
      ]
    },
    {
      "cell_type": "markdown",
      "metadata": {
        "id": "lXB03Lk6JMb8"
      },
      "source": [
        "Aqui relacionamos a idade do paciente e o tempo desde o último tumor"
      ]
    },
    {
      "cell_type": "code",
      "execution_count": null,
      "metadata": {
        "id": "iuWd5pir7yNl"
      },
      "outputs": [],
      "source": [
        "#Gráfico gerado através do lineplot\n",
        "sns.lineplot(data=tes2, x='Idade do paciente ao primeiro diagnóstico', y='Tempo de seguimento (em dias) - desde o último tumor no caso de tumores múltiplos    [dt_pci]')\n",
        "\n"
      ]
    },
    {
      "cell_type": "markdown",
      "metadata": {
        "id": "RR5ynWSuJTVL"
      },
      "source": [
        "Nesse outro gráfico relacionamos a situação do paciente com sua idade e explicitamos o regime de tratamento utilizado de cada um"
      ]
    },
    {
      "cell_type": "code",
      "execution_count": null,
      "metadata": {
        "id": "y1s9omZZDY99"
      },
      "outputs": [],
      "source": [
        "#Gráfico gerado através do barplot\n",
        "\n",
        "sns.barplot(data=tes2, x=\"Última informação do paciente\", y=\"Idade do paciente ao primeiro diagnóstico\", hue=\"Regime de Tratamento\")"
      ]
    },
    {
      "cell_type": "markdown",
      "metadata": {
        "id": "6jmq9mGLJbGr"
      },
      "source": [
        "Por último, nesse gráfico tentamos enxergar a relação entre a lateralidade do tumor e o tempo desde o último tumor, e novamente tentamos explicitar qual foi o regime de tratamento utilizado"
      ]
    },
    {
      "cell_type": "code",
      "execution_count": null,
      "metadata": {
        "id": "-x2q28RbFME8"
      },
      "outputs": [],
      "source": [
        "#Gráfico gerado através do catplot\n",
        "\n",
        "\n",
        "sns.catplot(data=tes2, x=\"Lateralidade do tumor\", y=\"Tempo de seguimento (em dias) - desde o último tumor no caso de tumores múltiplos    [dt_pci]\", hue='Regime de Tratamento', aspect=10.7/7.3, height=10)"
      ]
    },
    {
      "cell_type": "markdown",
      "metadata": {
        "id": "E0PF-SJ7KPPk"
      },
      "source": [
        "# **CODIFICAÇÃO **"
      ]
    },
    {
      "cell_type": "markdown",
      "metadata": {
        "id": "yGuYqLBZPoX7"
      },
      "source": [
        "CODIFICAÇÃO IDADE (label) E ÚLTIMA INFORMAÇÃO (one-hot)"
      ]
    },
    {
      "cell_type": "code",
      "execution_count": null,
      "metadata": {
        "id": "3sroPDqg5UsV"
      },
      "outputs": [],
      "source": [
        "#SETANDO O NUMERO DE CASAS DECIMAIS\n",
        "\n",
        "pd.set_option('display.precision',1)\n",
        "\n",
        "#transformando a coluna a seguir em inteiro\n",
        "tes['Idade do paciente ao primeiro diagnóstico'] = tes['Idade do paciente ao primeiro diagnóstico'].astype('int64')\n",
        "\n",
        "#dividindo as idades em intervalos, de forma que cada pessoa esteja em grupos com base nos intervalos estipulados\n",
        "tes['Idade COD'] = pd.cut(tes['Idade do paciente ao primeiro diagnóstico'], bins=[-1,1,30,45,60,89], labels=['-1','1','2','3','4'])\n",
        "print(tes.shape)\n",
        "#-1 -> NÃO INFORMADO\n",
        "# 1 = Idade entre 1~30 anos\n",
        "# 2 = Idade entre 30~45 anos\n",
        "# 3 = Idade entre 45~60 anos\n",
        "# 4 = Idade 60+ anos\n"
      ]
    },
    {
      "cell_type": "code",
      "execution_count": null,
      "metadata": {
        "id": "VHkZdQcWMAUU"
      },
      "outputs": [],
      "source": [
        "#Aplicação de lógica de OneHotEncoder para a seguinte coluna\n",
        "\n",
        "ohe = OneHotEncoder()\n",
        "opa = ohe.fit_transform(tes['Última informação do paciente'].values.reshape(-1,1)).toarray()\n",
        "\n",
        "dfohe = pd.DataFrame(opa, columns=['Óbito por Câncer','Vivo SOE', 'Vivo com Câncer', 'Óbito por outras causas SOE'])\n",
        "dfohe.shape\n",
        "df = pd.concat([tes,dfohe], axis=1)\n",
        "df"
      ]
    },
    {
      "cell_type": "markdown",
      "metadata": {
        "id": "WZVqL4Oflkmp"
      },
      "source": [
        "CODIFICAÇÃO TEMPO DE SEGUIMENTO (LABEL)"
      ]
    },
    {
      "cell_type": "code",
      "execution_count": null,
      "metadata": {
        "id": "RVrMEycVP_ca"
      },
      "outputs": [],
      "source": [
        "# Lógica semelhante a anterior é aplicada nessa coluna, garantindo a codificação bem feita\n",
        "df = df.drop(df[df['Tempo de seguimento (em dias) - desde o último tumor no caso de tumores múltiplos    [dt_pci]'] == 0].index)\n",
        "\n",
        "df['Tempo ultimo tumor'] = pd.cut(df['Tempo de seguimento (em dias) - desde o último tumor no caso de tumores múltiplos    [dt_pci]'], bins=[0,365,730,1825,2920,4000], labels=['1','2','3','4','5'])\n",
        "\n",
        "\n",
        "df"
      ]
    },
    {
      "cell_type": "markdown",
      "metadata": {
        "id": "bDYG9QUQMfAL"
      },
      "source": [
        "CODIFICAÇÃO \"JÁ FICOU GRÁVIDA\" (ONE-HOT)"
      ]
    },
    {
      "cell_type": "code",
      "execution_count": null,
      "metadata": {
        "id": "NmxF-2YBeQyJ"
      },
      "outputs": [],
      "source": [
        "# Lógica semelhante a anterior é aplicada nessa coluna, garantindo a codificação bem feita\n",
        "\n",
        "df['Já ficou grávida?'].fillna(\"Não Informado Gravida\", inplace= True)\n",
        "ohegravida = ohe.fit_transform(df['Já ficou grávida?'].values.reshape(-1,1)).toarray()\n",
        "\n",
        "df_ohegravida = pd.DataFrame(ohegravida, columns=['Não Grávida','Não informado Grávida','Grávida'])\n",
        "\n",
        "df = pd.concat([df,df_ohegravida], axis=1)"
      ]
    },
    {
      "cell_type": "markdown",
      "metadata": {
        "id": "e4I8stpyMnQb"
      },
      "source": [
        "CODIFICAÇÃO \"REGIME DE TRATAMENTO\" (ONE-HOT)"
      ]
    },
    {
      "cell_type": "code",
      "execution_count": null,
      "metadata": {
        "id": "ut7NnKXverKA"
      },
      "outputs": [],
      "source": [
        "# Lógica semelhante a anterior é aplicada nessa coluna, garantindo a codificação bem feita\n",
        "\n",
        "df['Regime de Tratamento'].fillna(\"Não Informado Tratamento\", inplace= True)\n",
        "ohetrat = ohe.fit_transform(df['Regime de Tratamento'].values.reshape(-1,1)).toarray()\n",
        "\n",
        "\n",
        "df_ohetrat = pd.DataFrame(ohetrat, columns=['Tratamento Não Informado','Não fez Quimioterapia','Paliativo','Terapia Adjuvante','Terapia Neoadjuvante'])\n",
        "df = pd.concat([df,df_ohetrat], axis=1)\n",
        "\n"
      ]
    },
    {
      "cell_type": "markdown",
      "metadata": {
        "id": "eG3p1iqzM1Ph"
      },
      "source": [
        "CODIFICAÇÃO \"LATERALIDADE DO TUMOR\""
      ]
    },
    {
      "cell_type": "code",
      "execution_count": null,
      "metadata": {
        "id": "sgGa3LrhjoXj"
      },
      "outputs": [],
      "source": [
        "# Lógica semelhante a anterior é aplicada nessa coluna, garantindo a codificação bem feita\n",
        "\n",
        "df['Lateralidade do tumor'].fillna(\"Não Informado Lateralidade\", inplace= True)\n",
        "ohelateral = ohe.fit_transform(df['Lateralidade do tumor'].values.reshape(-1,1)).toarray()\n",
        "\n",
        "\n",
        "df_ohelat = pd.DataFrame(ohelateral, columns=['Bilateral','Direita','Esquerda','Lateralidade Não informada','Lateralidade não se aplica'])\n",
        "\n",
        "df = pd.concat([df,df_ohelat], axis=1)\n",
        "df"
      ]
    },
    {
      "cell_type": "markdown",
      "metadata": {
        "id": "SDRTp9-kNEbT"
      },
      "source": [
        "CODIFICAÇÃO DAS RECIDIVAS (BINARY)"
      ]
    },
    {
      "cell_type": "code",
      "execution_count": null,
      "metadata": {
        "id": "rBNZNhWbnXsI"
      },
      "outputs": [],
      "source": [
        "# Lógica semelhante a anterior é aplicada nessa coluna, garantindo a codificação bem feita\n",
        "\n",
        "df['Com recidiva local'].fillna(\"Não\", inplace= True)\n",
        "df['Recidiva Local'] = df['Com recidiva local']\n",
        "df[\"Recidiva Local\"] = np.where(df[\"Com recidiva local\"] == \"Não\", 0, 1)\n",
        "\n",
        "df['Com recidiva regional'].fillna(\"Não\", inplace= True)\n",
        "df['Recidiva Regional'] = df['Com recidiva regional']\n",
        "df[\"Recidiva Regional\"] = np.where(df[\"Com recidiva regional\"] == \"Não\", 0, 1)\n",
        "\n",
        "df['Com recidiva à distância'].fillna(\"Não\", inplace= True)\n",
        "df['Recidiva à distância'] = df['Com recidiva à distância']\n",
        "df[\"Recidiva à distância\"] = np.where(df[\"Com recidiva à distância\"] == \"Não\", 0, 1)\n",
        "\n",
        "df"
      ]
    },
    {
      "cell_type": "markdown",
      "metadata": {
        "id": "NtdmytzaNXI7"
      },
      "source": [
        "CODIFICAÇÃO \"ESTADIO CLINICO\" (LABEL)"
      ]
    },
    {
      "cell_type": "code",
      "execution_count": null,
      "metadata": {
        "id": "LYjFi4ATq9fQ"
      },
      "outputs": [],
      "source": [
        "# Lógica semelhante a anterior é aplicada nessa coluna, garantindo a codificação bem feita\n",
        "\n",
        "label_encoder = LabelEncoder()\n",
        "df['Estadio Clínico  '].fillna(\"IV\", inplace= True)\n",
        "\n",
        "df['Estadio Clínico COD'] = label_encoder.fit_transform(df['Estadio Clínico  '])\n",
        "df['Estadio Clínico  '].unique()\n",
        "df['Estadio Clínico COD'].value_counts()\n",
        "# 0 - 0\n",
        "# I - 1\n",
        "# IA - 2\n",
        "# IB - 3\n",
        "# IB1 - 4\n",
        "# IB2- 5\n",
        "# II - 6\n",
        "# IIA - 7\n",
        "# IIB - 8\n",
        "# IIC- 9\n",
        "# III- 10\n",
        "# IIIA - 11\n",
        "# IIIB - 12\n",
        "# IIIC - 13\n",
        "# IV - 14\n",
        "# IVA - 15\n",
        "# IVB - 16\n",
        "# IVC - 17\n",
        "# Y: NA - 18\n",
        "# X : não foi possivel determinar - 19"
      ]
    },
    {
      "cell_type": "markdown",
      "metadata": {
        "id": "rHTF4-PeNkaz"
      },
      "source": [
        "CODIFICAÇÃO \"COMBINAÇÃO DE TRATAMENTOS\" (ONE HOT)"
      ]
    },
    {
      "cell_type": "code",
      "execution_count": null,
      "metadata": {
        "id": "WfppwTIN0UUO"
      },
      "outputs": [],
      "source": [
        "# Lógica semelhante a anterior é aplicada nessa coluna, garantindo a codificação bem feita\n",
        "\n",
        "df['Combinação dos Tratamentos Realizados no Hospital'].fillna(\"Nenhum tratamento\", inplace= True)\n",
        "\n",
        "ohecombtrat = ohe.fit_transform(df['Combinação dos Tratamentos Realizados no Hospital'].values.reshape(-1,1)).toarray()\n",
        "\n",
        "\n",
        "df_combtrat = pd.DataFrame(ohecombtrat, columns=['C','C+Q','C+R+Q','C+R+Q+H','C+R','Nenhum Tratamento','Outras Combinações','Q','R','R+Q'])\n",
        "# C = CIRURGIA\n",
        "# Q = QUIMIOTERAPIA\n",
        "# R = RADIOTERIA\n",
        "# H = HORMONIOTERAPIA\n",
        "\n",
        "\n",
        "df = pd.concat([df,df_combtrat], axis=1)\n",
        "\n",
        "df"
      ]
    },
    {
      "cell_type": "markdown",
      "metadata": {
        "id": "z3FrHS7PODzb"
      },
      "source": [
        "CODIFICAÇÃO TNM - M (LABEL)"
      ]
    },
    {
      "cell_type": "code",
      "execution_count": null,
      "metadata": {
        "id": "hvGdw8B9NtOb"
      },
      "outputs": [],
      "source": [
        "# Lógica semelhante a anterior é aplicada nessa coluna, garantindo a codificação bem feita\n",
        "\n",
        "df['Classificação TNM Clínico - M'].fillna(\"X - nao foi possivel determinar\", inplace= True)\n",
        "\n",
        "df['Classificação TNM - M'] = label_encoder.fit_transform(df['Classificação TNM Clínico - M'])\n",
        "\n",
        "df\n",
        "#0 - 0\n",
        "#1 - 1\n",
        "#2 - 1A\n",
        "#3 - 1B\n",
        "#4 - X - nao foi possivel determinar\n",
        "#5 - Y: na\n",
        "\n",
        "\n",
        "df['Classificação TNM - M'].value_counts()"
      ]
    },
    {
      "cell_type": "markdown",
      "metadata": {
        "id": "jiMDoioyOIRr"
      },
      "source": [
        "CODIFICAÇÃO TNM - N (LABEL)"
      ]
    },
    {
      "cell_type": "code",
      "execution_count": null,
      "metadata": {
        "id": "Sbs6CQbGWq75"
      },
      "outputs": [],
      "source": [
        "# Lógica semelhante a anterior é aplicada nessa coluna, garantindo a codificação bem feita\n",
        "\n",
        "df['Classificação TNM Clínico - N'].fillna(\"X - nao foi possivel determinar\", inplace= True)\n",
        "\n",
        "df['Classificação TNM - N'] = label_encoder.fit_transform(df['Classificação TNM Clínico - N'])\n",
        "\n",
        "\n",
        "# 0 - 0 \n",
        "# 1 - 1\n",
        "# 2 - 1A\n",
        "# 3 - 1B\n",
        "# 4 - 2\n",
        "# 5 - 2A\n",
        "# 6 - 2B\n",
        "# 7 - 3\n",
        "# 8 - 3A\n",
        "# 9 - 3B\n",
        "# 10 - 3C\n",
        "# 11 - X -nao foi possivel determinar\n",
        "# 12 - Y: Na\n",
        "\n",
        "\n",
        "df.isnull().sum()\n"
      ]
    },
    {
      "cell_type": "markdown",
      "metadata": {
        "id": "D9aTLOMTOW3C"
      },
      "source": [
        "CODIFICAÇÃO TNM - T (LABEL)"
      ]
    },
    {
      "cell_type": "code",
      "execution_count": null,
      "metadata": {
        "id": "1GLhgEgmYg2i"
      },
      "outputs": [],
      "source": [
        "# Lógica semelhante a anterior é aplicada nessa coluna, garantindo a codificação bem feita\n",
        "\n",
        "\n",
        "df['Classificação TNM Clínico - T'].fillna(\"X - nao foi possivel determinar\", inplace= True)\n",
        "\n",
        "df['Classificação TNM - T'] = label_encoder.fit_transform(df['Classificação TNM Clínico - T'])\n",
        "\n",
        "\n",
        "# 0 - 0\n",
        "# 1 - 1\n",
        "# 2 - 1A\n",
        "# 3 - 1B\n",
        "# 4 - 1C\n",
        "# 5 - 1MIC\n",
        "# 6 - 2\n",
        "# 7 - 2A\n",
        "# 8 - 2B\n",
        "# 9 - 3\n",
        "# 10 - 3A \n",
        "# 11 - 3B\n",
        "# 12 - 4\n",
        "# 13 - 4A\n",
        "# 14 - 4B\n",
        "# 15 - 4C\n",
        "# 16 - 4D\n",
        "# 17 - CDIS\n",
        "# 18 - CLIS\n",
        "# 19 - IS\n",
        "# 20 - X - nao foi possivel determinar\n",
        "# 21 - Y: Na\n",
        " \n",
        "df['Classificação TNM - T'].value_counts()"
      ]
    },
    {
      "cell_type": "markdown",
      "metadata": {
        "id": "deo_LHuUOZkS"
      },
      "source": [
        "TRATAMENTO DE MISSINGS OCORRIDOS DEVIDO A UM BUG DO ONEHOT ENCODED\n",
        "\n",
        "E \n",
        "\n",
        "SEPARAÇÃO ENTRE DOIS DF's -> UM POSSUI SOMENTE AS COLUNAS CODIFICADAS E O OUTRO POSSUI TODAS"
      ]
    },
    {
      "cell_type": "code",
      "execution_count": null,
      "metadata": {
        "id": "8iS9frPb39UO"
      },
      "outputs": [],
      "source": [
        "#Correção de bugs observados\n",
        "\n",
        "df.isnull().sum()\n",
        "df.columns[15]\n",
        "\n",
        "df_x = df.iloc[:,15:52]\n",
        "\n",
        "df_x = df_x.dropna(subset=['Vivo com Câncer','Grávida', 'Idade COD', 'Tempo ultimo tumor'])\n",
        "\n",
        "df_x.isnull().sum()"
      ]
    },
    {
      "cell_type": "markdown",
      "metadata": {
        "id": "U9K10W_WPMas"
      },
      "source": [
        "# **DESENVOLVIMENTO DE HIPÓTESES **"
      ]
    },
    {
      "cell_type": "markdown",
      "metadata": {
        "id": "OFNT0m7RQO46"
      },
      "source": [
        "**1a Hipótese** -> Com base nos dados que possuímos e analisando-os graficamente, podemos analisar que pacientes na faixa etária de 40-60 que nunca ficaram grávidas possuem alto risco de morte."
      ]
    },
    {
      "cell_type": "code",
      "execution_count": null,
      "metadata": {
        "id": "MaZELt6sf4po"
      },
      "outputs": [],
      "source": [
        "sns.set_theme(style=\"whitegrid\")\n",
        "\n",
        "#fig, axes = plt.subplots(1,2, sharex=True, figsize=(25,5))\n",
        "sns.catplot(data=df,kind='violin',inner='stick',split=True ,x='Já ficou grávida?', y='Idade do paciente ao primeiro diagnóstico',hue='Óbito por Câncer', aspect=10.7/7.3, height=10)"
      ]
    },
    {
      "cell_type": "markdown",
      "metadata": {
        "id": "nzcOLZE1RCyq"
      },
      "source": [
        "**2a Hipótese** -> Para as pessoas do grupo de estadio clínico IV que estejam perto do 60 anos, o tratamento indicado é o tratamento adjuvante, já que podemos ver no gráfico, um pico de pessoas sobevivendo, muito acima do outro cenário (morte)."
      ]
    },
    {
      "cell_type": "code",
      "execution_count": null,
      "metadata": {
        "id": "EpH65B9MRHGx"
      },
      "outputs": [],
      "source": [
        "#Tempo de seguimento (em dias) - desde o último tumor no caso de tumores múltiplos [dt_pci]\n",
        "\n",
        "tt = df[(df['Estadio Clínico COD'] == 14)]\n",
        "sns.catplot(data=tt,kind='violin',inner='stick',split=True ,x='Regime de Tratamento', y='Idade do paciente ao primeiro diagnóstico',hue='Vivo SOE', aspect=10.7/7.3, height=10)"
      ]
    },
    {
      "cell_type": "markdown",
      "metadata": {
        "id": "7rGEJzlORSCy"
      },
      "source": [
        "**3a Hipótese** ->  O tratamento adjuvante não é indicado para pacientes na faixa etária entre 45~60 que estão no estadio clínico IIA. Conforme podemos analisar no gráfico abaixo, há uma curva bastante acentuada para pessoas nessa idade."
      ]
    },
    {
      "cell_type": "code",
      "execution_count": null,
      "metadata": {
        "id": "iIk_DTdHRr1j"
      },
      "outputs": [],
      "source": [
        "#sns.catplot(data=rr,kind='violin',inner='stick',split=True ,x='Regime de Tratamento', y='Idade do paciente ao primeiro diagnóstico',hue='Vivo SOE', aspect=10.7/7.3, height=10)\n",
        "\n",
        "rr = df[(df['Estadio Clínico COD'] == 7)]\n",
        "sns.catplot(data=rr,kind='violin',inner='stick',split=True ,x='Regime de Tratamento', y='Idade do paciente ao primeiro diagnóstico',hue='Óbito por Câncer', aspect=10.7/7.3, height=10)\n",
        "#index_diastumor = tes2[ (tes2['Tempo de seguimento (em dias) - desde o último tumor no caso de tumores múltiplos    [dt_pci]'] <= 20)].index\n"
      ]
    }
  ],
  "metadata": {
    "colab": {
      "provenance": []
    },
    "kernelspec": {
      "display_name": "Python 3",
      "name": "python3"
    },
    "language_info": {
      "name": "python"
    }
  },
  "nbformat": 4,
  "nbformat_minor": 0
}